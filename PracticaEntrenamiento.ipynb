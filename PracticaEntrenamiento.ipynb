{
 "cells": [
  {
   "cell_type": "code",
   "execution_count": 20,
   "metadata": {},
   "outputs": [],
   "source": [
    "from sklearn import preprocessing\n",
    "from sklearn.model_selection import train_test_split\n",
    "from sklearn.datasets import make_classification\n",
    "from sklearn.linear_model import LogisticRegression\n",
    "from sklearn.preprocessing import StandardScaler\n",
    "from sklearn.preprocessing import LabelEncoder\n",
    "import matplotlib as plt\n",
    "import pandas as pd \n",
    "import numpy as n"
   ]
  },
  {
   "cell_type": "code",
   "execution_count": 60,
   "metadata": {},
   "outputs": [
    {
     "data": {
      "text/html": [
       "<div>\n",
       "<style scoped>\n",
       "    .dataframe tbody tr th:only-of-type {\n",
       "        vertical-align: middle;\n",
       "    }\n",
       "\n",
       "    .dataframe tbody tr th {\n",
       "        vertical-align: top;\n",
       "    }\n",
       "\n",
       "    .dataframe thead th {\n",
       "        text-align: right;\n",
       "    }\n",
       "</style>\n",
       "<table border=\"1\" class=\"dataframe\">\n",
       "  <thead>\n",
       "    <tr style=\"text-align: right;\">\n",
       "      <th></th>\n",
       "      <th>Student ID</th>\n",
       "      <th>Study Hours per Week</th>\n",
       "      <th>Attendance Rate</th>\n",
       "      <th>Previous Grades</th>\n",
       "      <th>Participation in Extracurricular Activities</th>\n",
       "      <th>Parent Education Level</th>\n",
       "      <th>Passed</th>\n",
       "    </tr>\n",
       "  </thead>\n",
       "  <tbody>\n",
       "    <tr>\n",
       "      <th>1126</th>\n",
       "      <td>S01127</td>\n",
       "      <td>11.5</td>\n",
       "      <td>63.7</td>\n",
       "      <td>62.2</td>\n",
       "      <td>NaN</td>\n",
       "      <td>Associate</td>\n",
       "      <td>No</td>\n",
       "    </tr>\n",
       "    <tr>\n",
       "      <th>27926</th>\n",
       "      <td>S27927</td>\n",
       "      <td>NaN</td>\n",
       "      <td>104.3</td>\n",
       "      <td>79.2</td>\n",
       "      <td>No</td>\n",
       "      <td>Master</td>\n",
       "      <td>Yes</td>\n",
       "    </tr>\n",
       "    <tr>\n",
       "      <th>21938</th>\n",
       "      <td>S21939</td>\n",
       "      <td>11.9</td>\n",
       "      <td>114.2</td>\n",
       "      <td>83.6</td>\n",
       "      <td>Yes</td>\n",
       "      <td>Associate</td>\n",
       "      <td>No</td>\n",
       "    </tr>\n",
       "    <tr>\n",
       "      <th>32641</th>\n",
       "      <td>S32642</td>\n",
       "      <td>9.2</td>\n",
       "      <td>45.6</td>\n",
       "      <td>46.1</td>\n",
       "      <td>No</td>\n",
       "      <td>High School</td>\n",
       "      <td>No</td>\n",
       "    </tr>\n",
       "    <tr>\n",
       "      <th>39294</th>\n",
       "      <td>S39295</td>\n",
       "      <td>13.7</td>\n",
       "      <td>48.2</td>\n",
       "      <td>76.5</td>\n",
       "      <td>No</td>\n",
       "      <td>Associate</td>\n",
       "      <td>No</td>\n",
       "    </tr>\n",
       "    <tr>\n",
       "      <th>31670</th>\n",
       "      <td>S31671</td>\n",
       "      <td>3.7</td>\n",
       "      <td>82.1</td>\n",
       "      <td>71.7</td>\n",
       "      <td>NaN</td>\n",
       "      <td>Master</td>\n",
       "      <td>Yes</td>\n",
       "    </tr>\n",
       "    <tr>\n",
       "      <th>1973</th>\n",
       "      <td>S01974</td>\n",
       "      <td>11.0</td>\n",
       "      <td>71.7</td>\n",
       "      <td>73.6</td>\n",
       "      <td>No</td>\n",
       "      <td>Bachelor</td>\n",
       "      <td>Yes</td>\n",
       "    </tr>\n",
       "    <tr>\n",
       "      <th>32212</th>\n",
       "      <td>S32213</td>\n",
       "      <td>7.2</td>\n",
       "      <td>56.9</td>\n",
       "      <td>36.5</td>\n",
       "      <td>Yes</td>\n",
       "      <td>Bachelor</td>\n",
       "      <td>Yes</td>\n",
       "    </tr>\n",
       "    <tr>\n",
       "      <th>34491</th>\n",
       "      <td>S34492</td>\n",
       "      <td>13.5</td>\n",
       "      <td>91.0</td>\n",
       "      <td>71.6</td>\n",
       "      <td>No</td>\n",
       "      <td>Master</td>\n",
       "      <td>No</td>\n",
       "    </tr>\n",
       "    <tr>\n",
       "      <th>27383</th>\n",
       "      <td>S27384</td>\n",
       "      <td>10.6</td>\n",
       "      <td>80.3</td>\n",
       "      <td>77.8</td>\n",
       "      <td>Yes</td>\n",
       "      <td>Bachelor</td>\n",
       "      <td>Yes</td>\n",
       "    </tr>\n",
       "  </tbody>\n",
       "</table>\n",
       "</div>"
      ],
      "text/plain": [
       "      Student ID  Study Hours per Week  Attendance Rate  Previous Grades  \\\n",
       "1126      S01127                  11.5             63.7             62.2   \n",
       "27926     S27927                   NaN            104.3             79.2   \n",
       "21938     S21939                  11.9            114.2             83.6   \n",
       "32641     S32642                   9.2             45.6             46.1   \n",
       "39294     S39295                  13.7             48.2             76.5   \n",
       "31670     S31671                   3.7             82.1             71.7   \n",
       "1973      S01974                  11.0             71.7             73.6   \n",
       "32212     S32213                   7.2             56.9             36.5   \n",
       "34491     S34492                  13.5             91.0             71.6   \n",
       "27383     S27384                  10.6             80.3             77.8   \n",
       "\n",
       "      Participation in Extracurricular Activities Parent Education Level  \\\n",
       "1126                                          NaN              Associate   \n",
       "27926                                          No                 Master   \n",
       "21938                                         Yes              Associate   \n",
       "32641                                          No            High School   \n",
       "39294                                          No              Associate   \n",
       "31670                                         NaN                 Master   \n",
       "1973                                           No               Bachelor   \n",
       "32212                                         Yes               Bachelor   \n",
       "34491                                          No                 Master   \n",
       "27383                                         Yes               Bachelor   \n",
       "\n",
       "      Passed  \n",
       "1126      No  \n",
       "27926    Yes  \n",
       "21938     No  \n",
       "32641     No  \n",
       "39294     No  \n",
       "31670    Yes  \n",
       "1973     Yes  \n",
       "32212    Yes  \n",
       "34491     No  \n",
       "27383    Yes  "
      ]
     },
     "execution_count": 60,
     "metadata": {},
     "output_type": "execute_result"
    }
   ],
   "source": [
    "df = pd.read_csv('./student_performance_prediction.csv')\n",
    "df.sample(10)"
   ]
  },
  {
   "cell_type": "code",
   "execution_count": 61,
   "metadata": {},
   "outputs": [
    {
     "name": "stdout",
     "output_type": "stream",
     "text": [
      "El dataset tiene 40000 filas.\n"
     ]
    }
   ],
   "source": [
    "num_rows, num_columns = df.shape\n",
    "\n",
    "print(\"El dataset tiene\", num_rows, \"filas.\")"
   ]
  },
  {
   "cell_type": "code",
   "execution_count": 62,
   "metadata": {},
   "outputs": [
    {
     "name": "stdout",
     "output_type": "stream",
     "text": [
      "Student ID                                        0\n",
      "Study Hours per Week                           1995\n",
      "Attendance Rate                                1992\n",
      "Previous Grades                                1994\n",
      "Participation in Extracurricular Activities    2000\n",
      "Parent Education Level                         2000\n",
      "Passed                                         2000\n",
      "dtype: int64\n"
     ]
    }
   ],
   "source": [
    "# Contar valores NaN en cada columna\n",
    "nan_counts = df.isna().sum()\n",
    "\n",
    "# Mostrar el conteo de valores NaN por columna\n",
    "print(nan_counts)"
   ]
  },
  {
   "cell_type": "code",
   "execution_count": 63,
   "metadata": {},
   "outputs": [
    {
     "name": "stdout",
     "output_type": "stream",
     "text": [
      "Student ID                                        0\n",
      "Study Hours per Week                           1995\n",
      "Attendance Rate                                1992\n",
      "Previous Grades                                1994\n",
      "Participation in Extracurricular Activities    2000\n",
      "Parent Education Level                         2000\n",
      "Passed                                         2000\n",
      "dtype: int64\n"
     ]
    }
   ],
   "source": [
    "# Contar valores nulos y vacíos en cada columna\n",
    "empty_counts = df.apply(lambda x: x.isnull().sum() + (x == '').sum())\n",
    "\n",
    "# Mostrar el conteo de valores vacíos y nulos por columna\n",
    "print(empty_counts)"
   ]
  },
  {
   "cell_type": "code",
   "execution_count": 64,
   "metadata": {},
   "outputs": [
    {
     "name": "stdout",
     "output_type": "stream",
     "text": [
      "Column: Student ID\n",
      "Mode: S00001\n",
      "Frequency of Mode: 1\n",
      "\n",
      "Column: Participation in Extracurricular Activities\n",
      "Mode: No\n",
      "Frequency of Mode: 19028\n",
      "\n",
      "Column: Parent Education Level\n",
      "Mode: Bachelor\n",
      "Frequency of Mode: 7685\n",
      "\n",
      "Column: Passed\n",
      "Mode: Yes\n",
      "Frequency of Mode: 19011\n",
      "\n"
     ]
    }
   ],
   "source": [
    "# Obtener moda y frecuencia para columnas categóricas\n",
    "for column in df.select_dtypes(include=['object']).columns:\n",
    "    mode = df[column].mode()[0]\n",
    "    print(f\"Column: {column}\")\n",
    "    print(f\"Mode: {mode}\")\n",
    "    print(f\"Frequency of Mode: {df[column].value_counts().get(mode, 0)}\")\n",
    "    print()"
   ]
  },
  {
   "cell_type": "code",
   "execution_count": 65,
   "metadata": {},
   "outputs": [
    {
     "name": "stdout",
     "output_type": "stream",
     "text": [
      "       Student ID  Study Hours per Week  Attendance Rate  Previous Grades  \\\n",
      "count       40000          38005.000000     38008.000000     38006.000000   \n",
      "unique      40000                   NaN              NaN              NaN   \n",
      "top        S00001                   NaN              NaN              NaN   \n",
      "freq            1                   NaN              NaN              NaN   \n",
      "mean          NaN              9.962744        75.276323        65.440107   \n",
      "std           NaN              5.031154        20.393418        16.503119   \n",
      "min           NaN            -12.300000       -14.300000         8.300000   \n",
      "25%           NaN              6.600000        61.600000        55.100000   \n",
      "50%           NaN             10.000000        75.300000        65.200000   \n",
      "75%           NaN             13.400000        88.800000        75.200000   \n",
      "max           NaN             32.400000       150.200000       200.000000   \n",
      "\n",
      "       Participation in Extracurricular Activities Parent Education Level  \\\n",
      "count                                        38000                  38000   \n",
      "unique                                           2                      5   \n",
      "top                                             No               Bachelor   \n",
      "freq                                         19028                   7685   \n",
      "mean                                           NaN                    NaN   \n",
      "std                                            NaN                    NaN   \n",
      "min                                            NaN                    NaN   \n",
      "25%                                            NaN                    NaN   \n",
      "50%                                            NaN                    NaN   \n",
      "75%                                            NaN                    NaN   \n",
      "max                                            NaN                    NaN   \n",
      "\n",
      "       Passed  \n",
      "count   38000  \n",
      "unique      2  \n",
      "top       Yes  \n",
      "freq    19011  \n",
      "mean      NaN  \n",
      "std       NaN  \n",
      "min       NaN  \n",
      "25%       NaN  \n",
      "50%       NaN  \n",
      "75%       NaN  \n",
      "max       NaN  \n"
     ]
    }
   ],
   "source": [
    "# Obtener estadísticas descriptivas\n",
    "statistics = df.describe(include='all')  # `include='all'` incluye columnas numéricas y categóricas\n",
    "print(statistics)"
   ]
  },
  {
   "cell_type": "code",
   "execution_count": 66,
   "metadata": {},
   "outputs": [],
   "source": [
    "# Crear una copia del DataFrame\n",
    "df_copy = df.copy()"
   ]
  },
  {
   "cell_type": "code",
   "execution_count": 67,
   "metadata": {},
   "outputs": [],
   "source": [
    "# Ejemplo de modificación: rellenar valores nulos con la media\n",
    "df_copy.fillna(df_copy.mean(numeric_only=True), inplace=True)"
   ]
  },
  {
   "cell_type": "code",
   "execution_count": 68,
   "metadata": {},
   "outputs": [
    {
     "name": "stdout",
     "output_type": "stream",
     "text": [
      "False\n"
     ]
    }
   ],
   "source": [
    "# Verifica si los DataFrames son iguales\n",
    "print(df.equals(df_copy))  "
   ]
  },
  {
   "cell_type": "code",
   "execution_count": 71,
   "metadata": {},
   "outputs": [
    {
     "name": "stdout",
     "output_type": "stream",
     "text": [
      "Student ID                                        0\n",
      "Study Hours per Week                              0\n",
      "Attendance Rate                                   0\n",
      "Previous Grades                                   0\n",
      "Participation in Extracurricular Activities    2000\n",
      "Parent Education Level                         2000\n",
      "Passed                                         2000\n",
      "dtype: int64\n"
     ]
    }
   ],
   "source": [
    "# Contar valores nulos y vacíos en cada columna\n",
    "empty_counts1 = df_copy.apply(lambda x: x.isnull().sum() + (x == '').sum())\n",
    "\n",
    "# Mostrar el conteo de valores vacíos y nulos por columna\n",
    "print(empty_counts1)"
   ]
  },
  {
   "cell_type": "code",
   "execution_count": 72,
   "metadata": {},
   "outputs": [
    {
     "name": "stderr",
     "output_type": "stream",
     "text": [
      "/var/folders/zn/2r0x1mkx23n68pydslhg72dh0000gn/T/ipykernel_71604/242110929.py:4: FutureWarning: A value is trying to be set on a copy of a DataFrame or Series through chained assignment using an inplace method.\n",
      "The behavior will change in pandas 3.0. This inplace method will never work because the intermediate object on which we are setting values always behaves as a copy.\n",
      "\n",
      "For example, when doing 'df[col].method(value, inplace=True)', try using 'df.method({col: value}, inplace=True)' or df[col] = df[col].method(value) instead, to perform the operation inplace on the original object.\n",
      "\n",
      "\n",
      "  df_copy[column].fillna(mode_value, inplace=True)\n"
     ]
    }
   ],
   "source": [
    "# Rellenar valores nulos con la moda\n",
    "for column in ['Participation in Extracurricular Activities', 'Parent Education Level']:\n",
    "    mode_value = df_copy[column].mode()[0]\n",
    "    df_copy[column].fillna(mode_value, inplace=True)"
   ]
  },
  {
   "cell_type": "code",
   "execution_count": 79,
   "metadata": {},
   "outputs": [
    {
     "name": "stdout",
     "output_type": "stream",
     "text": [
      "Student ID                                     0\n",
      "Study Hours per Week                           0\n",
      "Attendance Rate                                0\n",
      "Previous Grades                                0\n",
      "Participation in Extracurricular Activities    0\n",
      "Parent Education Level                         0\n",
      "Passed                                         0\n",
      "dtype: int64\n"
     ]
    }
   ],
   "source": [
    "# Contar valores nulos y vacíos en cada columna\n",
    "empty_counts1 = df_copy.apply(lambda x: x.isnull().sum() + (x == '').sum())\n",
    "\n",
    "# Mostrar el conteo de valores vacíos y nulos por columna\n",
    "print(empty_counts1)"
   ]
  },
  {
   "cell_type": "code",
   "execution_count": 75,
   "metadata": {},
   "outputs": [],
   "source": [
    "# Convertir la columna 'Passed' a valores binarios\n",
    "df_copy['Passed'] = df_copy['Passed'].map({'Yes': 1, 'No': 0})"
   ]
  },
  {
   "cell_type": "code",
   "execution_count": 76,
   "metadata": {},
   "outputs": [
    {
     "name": "stderr",
     "output_type": "stream",
     "text": [
      "/var/folders/zn/2r0x1mkx23n68pydslhg72dh0000gn/T/ipykernel_71604/1211791902.py:3: FutureWarning: A value is trying to be set on a copy of a DataFrame or Series through chained assignment using an inplace method.\n",
      "The behavior will change in pandas 3.0. This inplace method will never work because the intermediate object on which we are setting values always behaves as a copy.\n",
      "\n",
      "For example, when doing 'df[col].method(value, inplace=True)', try using 'df.method({col: value}, inplace=True)' or df[col] = df[col].method(value) instead, to perform the operation inplace on the original object.\n",
      "\n",
      "\n",
      "  df_copy['Passed'].fillna(mode_value, inplace=True)\n"
     ]
    }
   ],
   "source": [
    "# Rellenar valores nulos en 'Passed' con la moda\n",
    "mode_value = df_copy['Passed'].mode()[0]\n",
    "df_copy['Passed'].fillna(mode_value, inplace=True)"
   ]
  },
  {
   "cell_type": "code",
   "execution_count": 97,
   "metadata": {},
   "outputs": [
    {
     "name": "stdout",
     "output_type": "stream",
     "text": [
      "Student ID                                         0\n",
      "Study Hours per Week                               0\n",
      "Attendance Rate                                    0\n",
      "Previous Grades                                    0\n",
      "Participation in Extracurricular Activities        0\n",
      "Parent Education Level                             0\n",
      "Passed                                         40000\n",
      "dtype: int64\n"
     ]
    }
   ],
   "source": [
    "# Contar valores nulos y vacíos en cada columna\n",
    "empty_counts1 = df_copy.apply(lambda x: x.isnull().sum() + (x == '').sum())\n",
    "\n",
    "# Mostrar el conteo de valores vacíos y nulos por columna\n",
    "print(empty_counts1)"
   ]
  },
  {
   "cell_type": "code",
   "execution_count": 114,
   "metadata": {},
   "outputs": [],
   "source": [
    "# Convertir 'Passed' a valores binarios\n",
    "df_copy['Passed'] = df_copy['Passed'].map({'Yes': 1, 'No': 0})"
   ]
  },
  {
   "cell_type": "code",
   "execution_count": 118,
   "metadata": {},
   "outputs": [
    {
     "name": "stdout",
     "output_type": "stream",
     "text": [
      "  Student ID  Study Hours per Week  Attendance Rate  Previous Grades  \\\n",
      "0     S00001                  12.5        75.276323             75.0   \n",
      "1     S00002                   9.3        95.300000             60.6   \n",
      "2     S00003                  13.2        75.276323             64.0   \n",
      "3     S00004                  17.6        76.800000             62.4   \n",
      "4     S00005                   8.8        89.300000             72.7   \n",
      "\n",
      "   Participation in Extracurricular Activities  Parent Education Level  Passed  \n",
      "0                                          NaN                       4     NaN  \n",
      "1                                          NaN                       3     NaN  \n",
      "2                                          NaN                       0     NaN  \n",
      "3                                          NaN                       1     NaN  \n",
      "4                                          NaN                       4     NaN  \n"
     ]
    }
   ],
   "source": [
    "print(df_copy.head())"
   ]
  },
  {
   "cell_type": "code",
   "execution_count": 110,
   "metadata": {},
   "outputs": [],
   "source": [
    "# Convertir 'Participation in Extracurricular Activities' a valores binarios\n",
    "df_copy['Participation in Extracurricular Activities'] = df_copy['Participation in Extracurricular Activities'].map({'Yes': 1, 'No': 0})"
   ]
  },
  {
   "cell_type": "code",
   "execution_count": 100,
   "metadata": {},
   "outputs": [],
   "source": [
    "df_copy['Parent Education Level'] = LabelEncoder().fit_transform(df_copy['Parent Education Level'])"
   ]
  },
  {
   "cell_type": "code",
   "execution_count": 108,
   "metadata": {},
   "outputs": [
    {
     "name": "stdout",
     "output_type": "stream",
     "text": [
      "Student ID                                         0\n",
      "Study Hours per Week                               0\n",
      "Attendance Rate                                    0\n",
      "Previous Grades                                    0\n",
      "Participation in Extracurricular Activities    40000\n",
      "Parent Education Level                             0\n",
      "Passed                                         40000\n",
      "dtype: int64\n"
     ]
    }
   ],
   "source": [
    "# Contar valores nulos y vacíos en cada columna\n",
    "empty_counts1 = df_copy.apply(lambda x: x.isnull().sum() + (x == '').sum())\n",
    "\n",
    "# Mostrar el conteo de valores vacíos y nulos por columna\n",
    "print(empty_counts1)"
   ]
  },
  {
   "cell_type": "code",
   "execution_count": 90,
   "metadata": {},
   "outputs": [],
   "source": [
    "train_cols = [\n",
    "    'Study Hours per Week', \n",
    "    'Attendance Rate', \n",
    "    'Previous Grades', \n",
    "    'Participation in Extracurricular Activities', \n",
    "    'Parent Education Level',  \n",
    "    'Passed'\n",
    "]\n",
    "\n",
    "X = df_copy[train_cols]\n",
    "y = df_copy['Passed']"
   ]
  },
  {
   "cell_type": "code",
   "execution_count": 101,
   "metadata": {},
   "outputs": [],
   "source": [
    "X_train, X_test, y_train, y_test = train_test_split(X,y,test_size=0.33, random_state=50)"
   ]
  },
  {
   "cell_type": "code",
   "execution_count": 106,
   "metadata": {},
   "outputs": [
    {
     "ename": "AttributeError",
     "evalue": "'numpy.ndarray' object has no attribute 'isnull'",
     "output_type": "error",
     "traceback": [
      "\u001b[0;31m---------------------------------------------------------------------------\u001b[0m",
      "\u001b[0;31mAttributeError\u001b[0m                            Traceback (most recent call last)",
      "\u001b[1;32m/Users/yadir/Desktop/Python platzy/Machinlearning/entrenmaientoDeDatos/PracticaEntrenamiento.ipynb Celda 22\u001b[0m line \u001b[0;36m1\n\u001b[0;32m----> <a href='vscode-notebook-cell:/Users/yadir/Desktop/Python%20platzy/Machinlearning/entrenmaientoDeDatos/PracticaEntrenamiento.ipynb#X62sZmlsZQ%3D%3D?line=0'>1</a>\u001b[0m \u001b[39mprint\u001b[39m(X_train\u001b[39m.\u001b[39;49misnull()\u001b[39m.\u001b[39msum())\n",
      "\u001b[0;31mAttributeError\u001b[0m: 'numpy.ndarray' object has no attribute 'isnull'"
     ]
    }
   ],
   "source": [
    "print(X_train.isnull().sum())"
   ]
  },
  {
   "cell_type": "code",
   "execution_count": 102,
   "metadata": {},
   "outputs": [
    {
     "name": "stderr",
     "output_type": "stream",
     "text": [
      "/Users/yadir/Desktop/Python platzy/Machinlearning/myenv/lib/python3.11/site-packages/sklearn/utils/extmath.py:1137: RuntimeWarning: invalid value encountered in divide\n",
      "  updated_mean = (last_sum + new_sum) / updated_sample_count\n",
      "/Users/yadir/Desktop/Python platzy/Machinlearning/myenv/lib/python3.11/site-packages/sklearn/utils/extmath.py:1142: RuntimeWarning: invalid value encountered in divide\n",
      "  T = new_sum / new_sample_count\n",
      "/Users/yadir/Desktop/Python platzy/Machinlearning/myenv/lib/python3.11/site-packages/sklearn/utils/extmath.py:1162: RuntimeWarning: invalid value encountered in divide\n",
      "  new_unnormalized_variance -= correction**2 / new_sample_count\n"
     ]
    },
    {
     "data": {
      "text/html": [
       "<div>\n",
       "<style scoped>\n",
       "    .dataframe tbody tr th:only-of-type {\n",
       "        vertical-align: middle;\n",
       "    }\n",
       "\n",
       "    .dataframe tbody tr th {\n",
       "        vertical-align: top;\n",
       "    }\n",
       "\n",
       "    .dataframe thead th {\n",
       "        text-align: right;\n",
       "    }\n",
       "</style>\n",
       "<table border=\"1\" class=\"dataframe\">\n",
       "  <thead>\n",
       "    <tr style=\"text-align: right;\">\n",
       "      <th></th>\n",
       "      <th>Study Hours per Week</th>\n",
       "      <th>Attendance Rate</th>\n",
       "      <th>Previous Grades</th>\n",
       "      <th>Participation in Extracurricular Activities</th>\n",
       "      <th>Parent Education Level</th>\n",
       "      <th>Passed</th>\n",
       "    </tr>\n",
       "  </thead>\n",
       "  <tbody>\n",
       "    <tr>\n",
       "      <th>27019</th>\n",
       "      <td>14.289821</td>\n",
       "      <td>78.625201</td>\n",
       "      <td>67.001507</td>\n",
       "      <td>-0.053677</td>\n",
       "      <td>1.395951</td>\n",
       "      <td>NaN</td>\n",
       "    </tr>\n",
       "    <tr>\n",
       "      <th>13856</th>\n",
       "      <td>6.093475</td>\n",
       "      <td>82.139677</td>\n",
       "      <td>66.719984</td>\n",
       "      <td>0.949057</td>\n",
       "      <td>1.395951</td>\n",
       "      <td>NaN</td>\n",
       "    </tr>\n",
       "    <tr>\n",
       "      <th>32445</th>\n",
       "      <td>12.857450</td>\n",
       "      <td>86.983953</td>\n",
       "      <td>77.230176</td>\n",
       "      <td>-0.053677</td>\n",
       "      <td>1.395951</td>\n",
       "      <td>NaN</td>\n",
       "    </tr>\n",
       "    <tr>\n",
       "      <th>24754</th>\n",
       "      <td>13.732788</td>\n",
       "      <td>79.100130</td>\n",
       "      <td>60.151114</td>\n",
       "      <td>0.949057</td>\n",
       "      <td>1.677260</td>\n",
       "      <td>NaN</td>\n",
       "    </tr>\n",
       "    <tr>\n",
       "      <th>2666</th>\n",
       "      <td>13.334907</td>\n",
       "      <td>57.633336</td>\n",
       "      <td>47.670262</td>\n",
       "      <td>0.949057</td>\n",
       "      <td>2.239876</td>\n",
       "      <td>NaN</td>\n",
       "    </tr>\n",
       "    <tr>\n",
       "      <th>...</th>\n",
       "      <td>...</td>\n",
       "      <td>...</td>\n",
       "      <td>...</td>\n",
       "      <td>...</td>\n",
       "      <td>...</td>\n",
       "      <td>...</td>\n",
       "    </tr>\n",
       "    <tr>\n",
       "      <th>1016</th>\n",
       "      <td>7.366694</td>\n",
       "      <td>88.123783</td>\n",
       "      <td>86.989640</td>\n",
       "      <td>0.949057</td>\n",
       "      <td>1.395951</td>\n",
       "      <td>NaN</td>\n",
       "    </tr>\n",
       "    <tr>\n",
       "      <th>3920</th>\n",
       "      <td>17.393292</td>\n",
       "      <td>75.278208</td>\n",
       "      <td>65.781574</td>\n",
       "      <td>-0.053677</td>\n",
       "      <td>1.958568</td>\n",
       "      <td>NaN</td>\n",
       "    </tr>\n",
       "    <tr>\n",
       "      <th>22782</th>\n",
       "      <td>14.528549</td>\n",
       "      <td>72.641095</td>\n",
       "      <td>51.423902</td>\n",
       "      <td>-0.053677</td>\n",
       "      <td>2.239876</td>\n",
       "      <td>NaN</td>\n",
       "    </tr>\n",
       "    <tr>\n",
       "      <th>21996</th>\n",
       "      <td>2.751275</td>\n",
       "      <td>51.649229</td>\n",
       "      <td>84.737456</td>\n",
       "      <td>-0.053677</td>\n",
       "      <td>1.395951</td>\n",
       "      <td>NaN</td>\n",
       "    </tr>\n",
       "    <tr>\n",
       "      <th>19244</th>\n",
       "      <td>11.186350</td>\n",
       "      <td>39.016115</td>\n",
       "      <td>61.089524</td>\n",
       "      <td>0.949057</td>\n",
       "      <td>1.677260</td>\n",
       "      <td>NaN</td>\n",
       "    </tr>\n",
       "  </tbody>\n",
       "</table>\n",
       "<p>13200 rows × 6 columns</p>\n",
       "</div>"
      ],
      "text/plain": [
       "       Study Hours per Week  Attendance Rate  Previous Grades  \\\n",
       "27019             14.289821        78.625201        67.001507   \n",
       "13856              6.093475        82.139677        66.719984   \n",
       "32445             12.857450        86.983953        77.230176   \n",
       "24754             13.732788        79.100130        60.151114   \n",
       "2666              13.334907        57.633336        47.670262   \n",
       "...                     ...              ...              ...   \n",
       "1016               7.366694        88.123783        86.989640   \n",
       "3920              17.393292        75.278208        65.781574   \n",
       "22782             14.528549        72.641095        51.423902   \n",
       "21996              2.751275        51.649229        84.737456   \n",
       "19244             11.186350        39.016115        61.089524   \n",
       "\n",
       "       Participation in Extracurricular Activities  Parent Education Level  \\\n",
       "27019                                    -0.053677                1.395951   \n",
       "13856                                     0.949057                1.395951   \n",
       "32445                                    -0.053677                1.395951   \n",
       "24754                                     0.949057                1.677260   \n",
       "2666                                      0.949057                2.239876   \n",
       "...                                            ...                     ...   \n",
       "1016                                      0.949057                1.395951   \n",
       "3920                                     -0.053677                1.958568   \n",
       "22782                                    -0.053677                2.239876   \n",
       "21996                                    -0.053677                1.395951   \n",
       "19244                                     0.949057                1.677260   \n",
       "\n",
       "       Passed  \n",
       "27019     NaN  \n",
       "13856     NaN  \n",
       "32445     NaN  \n",
       "24754     NaN  \n",
       "2666      NaN  \n",
       "...       ...  \n",
       "1016      NaN  \n",
       "3920      NaN  \n",
       "22782     NaN  \n",
       "21996     NaN  \n",
       "19244     NaN  \n",
       "\n",
       "[13200 rows x 6 columns]"
      ]
     },
     "execution_count": 102,
     "metadata": {},
     "output_type": "execute_result"
    }
   ],
   "source": [
    "scaler=StandardScaler()\n",
    "X_train=scaler.fit_transform(X_train)\n",
    "X_test-scaler.transform(X_test)"
   ]
  },
  {
   "cell_type": "code",
   "execution_count": 103,
   "metadata": {},
   "outputs": [],
   "source": [
    "clf=LogisticRegression(C=1e10)"
   ]
  },
  {
   "cell_type": "code",
   "execution_count": 104,
   "metadata": {},
   "outputs": [
    {
     "ename": "ValueError",
     "evalue": "Input X contains NaN.\nLogisticRegression does not accept missing values encoded as NaN natively. For supervised learning, you might want to consider sklearn.ensemble.HistGradientBoostingClassifier and Regressor which accept missing values encoded as NaNs natively. Alternatively, it is possible to preprocess the data, for instance by using an imputer transformer in a pipeline or drop samples with missing values. See https://scikit-learn.org/stable/modules/impute.html You can find a list of all estimators that handle NaN values at the following page: https://scikit-learn.org/stable/modules/impute.html#estimators-that-handle-nan-values",
     "output_type": "error",
     "traceback": [
      "\u001b[0;31m---------------------------------------------------------------------------\u001b[0m",
      "\u001b[0;31mValueError\u001b[0m                                Traceback (most recent call last)",
      "\u001b[1;32m/Users/yadir/Desktop/Python platzy/Machinlearning/entrenmaientoDeDatos/PracticaEntrenamiento.ipynb Celda 24\u001b[0m line \u001b[0;36m1\n\u001b[0;32m----> <a href='vscode-notebook-cell:/Users/yadir/Desktop/Python%20platzy/Machinlearning/entrenmaientoDeDatos/PracticaEntrenamiento.ipynb#X60sZmlsZQ%3D%3D?line=0'>1</a>\u001b[0m clf\u001b[39m.\u001b[39;49mfit(X_train,y_train)\n",
      "File \u001b[0;32m~/Desktop/Python platzy/Machinlearning/myenv/lib/python3.11/site-packages/sklearn/base.py:1473\u001b[0m, in \u001b[0;36m_fit_context.<locals>.decorator.<locals>.wrapper\u001b[0;34m(estimator, *args, **kwargs)\u001b[0m\n\u001b[1;32m   1466\u001b[0m     estimator\u001b[39m.\u001b[39m_validate_params()\n\u001b[1;32m   1468\u001b[0m \u001b[39mwith\u001b[39;00m config_context(\n\u001b[1;32m   1469\u001b[0m     skip_parameter_validation\u001b[39m=\u001b[39m(\n\u001b[1;32m   1470\u001b[0m         prefer_skip_nested_validation \u001b[39mor\u001b[39;00m global_skip_validation\n\u001b[1;32m   1471\u001b[0m     )\n\u001b[1;32m   1472\u001b[0m ):\n\u001b[0;32m-> 1473\u001b[0m     \u001b[39mreturn\u001b[39;00m fit_method(estimator, \u001b[39m*\u001b[39;49margs, \u001b[39m*\u001b[39;49m\u001b[39m*\u001b[39;49mkwargs)\n",
      "File \u001b[0;32m~/Desktop/Python platzy/Machinlearning/myenv/lib/python3.11/site-packages/sklearn/linear_model/_logistic.py:1223\u001b[0m, in \u001b[0;36mLogisticRegression.fit\u001b[0;34m(self, X, y, sample_weight)\u001b[0m\n\u001b[1;32m   1220\u001b[0m \u001b[39melse\u001b[39;00m:\n\u001b[1;32m   1221\u001b[0m     _dtype \u001b[39m=\u001b[39m [np\u001b[39m.\u001b[39mfloat64, np\u001b[39m.\u001b[39mfloat32]\n\u001b[0;32m-> 1223\u001b[0m X, y \u001b[39m=\u001b[39m \u001b[39mself\u001b[39;49m\u001b[39m.\u001b[39;49m_validate_data(\n\u001b[1;32m   1224\u001b[0m     X,\n\u001b[1;32m   1225\u001b[0m     y,\n\u001b[1;32m   1226\u001b[0m     accept_sparse\u001b[39m=\u001b[39;49m\u001b[39m\"\u001b[39;49m\u001b[39mcsr\u001b[39;49m\u001b[39m\"\u001b[39;49m,\n\u001b[1;32m   1227\u001b[0m     dtype\u001b[39m=\u001b[39;49m_dtype,\n\u001b[1;32m   1228\u001b[0m     order\u001b[39m=\u001b[39;49m\u001b[39m\"\u001b[39;49m\u001b[39mC\u001b[39;49m\u001b[39m\"\u001b[39;49m,\n\u001b[1;32m   1229\u001b[0m     accept_large_sparse\u001b[39m=\u001b[39;49msolver \u001b[39mnot\u001b[39;49;00m \u001b[39min\u001b[39;49;00m [\u001b[39m\"\u001b[39;49m\u001b[39mliblinear\u001b[39;49m\u001b[39m\"\u001b[39;49m, \u001b[39m\"\u001b[39;49m\u001b[39msag\u001b[39;49m\u001b[39m\"\u001b[39;49m, \u001b[39m\"\u001b[39;49m\u001b[39msaga\u001b[39;49m\u001b[39m\"\u001b[39;49m],\n\u001b[1;32m   1230\u001b[0m )\n\u001b[1;32m   1231\u001b[0m check_classification_targets(y)\n\u001b[1;32m   1232\u001b[0m \u001b[39mself\u001b[39m\u001b[39m.\u001b[39mclasses_ \u001b[39m=\u001b[39m np\u001b[39m.\u001b[39munique(y)\n",
      "File \u001b[0;32m~/Desktop/Python platzy/Machinlearning/myenv/lib/python3.11/site-packages/sklearn/base.py:650\u001b[0m, in \u001b[0;36mBaseEstimator._validate_data\u001b[0;34m(self, X, y, reset, validate_separately, cast_to_ndarray, **check_params)\u001b[0m\n\u001b[1;32m    648\u001b[0m         y \u001b[39m=\u001b[39m check_array(y, input_name\u001b[39m=\u001b[39m\u001b[39m\"\u001b[39m\u001b[39my\u001b[39m\u001b[39m\"\u001b[39m, \u001b[39m*\u001b[39m\u001b[39m*\u001b[39mcheck_y_params)\n\u001b[1;32m    649\u001b[0m     \u001b[39melse\u001b[39;00m:\n\u001b[0;32m--> 650\u001b[0m         X, y \u001b[39m=\u001b[39m check_X_y(X, y, \u001b[39m*\u001b[39;49m\u001b[39m*\u001b[39;49mcheck_params)\n\u001b[1;32m    651\u001b[0m     out \u001b[39m=\u001b[39m X, y\n\u001b[1;32m    653\u001b[0m \u001b[39mif\u001b[39;00m \u001b[39mnot\u001b[39;00m no_val_X \u001b[39mand\u001b[39;00m check_params\u001b[39m.\u001b[39mget(\u001b[39m\"\u001b[39m\u001b[39mensure_2d\u001b[39m\u001b[39m\"\u001b[39m, \u001b[39mTrue\u001b[39;00m):\n",
      "File \u001b[0;32m~/Desktop/Python platzy/Machinlearning/myenv/lib/python3.11/site-packages/sklearn/utils/validation.py:1301\u001b[0m, in \u001b[0;36mcheck_X_y\u001b[0;34m(X, y, accept_sparse, accept_large_sparse, dtype, order, copy, force_writeable, force_all_finite, ensure_2d, allow_nd, multi_output, ensure_min_samples, ensure_min_features, y_numeric, estimator)\u001b[0m\n\u001b[1;32m   1296\u001b[0m         estimator_name \u001b[39m=\u001b[39m _check_estimator_name(estimator)\n\u001b[1;32m   1297\u001b[0m     \u001b[39mraise\u001b[39;00m \u001b[39mValueError\u001b[39;00m(\n\u001b[1;32m   1298\u001b[0m         \u001b[39mf\u001b[39m\u001b[39m\"\u001b[39m\u001b[39m{\u001b[39;00mestimator_name\u001b[39m}\u001b[39;00m\u001b[39m requires y to be passed, but the target y is None\u001b[39m\u001b[39m\"\u001b[39m\n\u001b[1;32m   1299\u001b[0m     )\n\u001b[0;32m-> 1301\u001b[0m X \u001b[39m=\u001b[39m check_array(\n\u001b[1;32m   1302\u001b[0m     X,\n\u001b[1;32m   1303\u001b[0m     accept_sparse\u001b[39m=\u001b[39;49maccept_sparse,\n\u001b[1;32m   1304\u001b[0m     accept_large_sparse\u001b[39m=\u001b[39;49maccept_large_sparse,\n\u001b[1;32m   1305\u001b[0m     dtype\u001b[39m=\u001b[39;49mdtype,\n\u001b[1;32m   1306\u001b[0m     order\u001b[39m=\u001b[39;49morder,\n\u001b[1;32m   1307\u001b[0m     copy\u001b[39m=\u001b[39;49mcopy,\n\u001b[1;32m   1308\u001b[0m     force_writeable\u001b[39m=\u001b[39;49mforce_writeable,\n\u001b[1;32m   1309\u001b[0m     force_all_finite\u001b[39m=\u001b[39;49mforce_all_finite,\n\u001b[1;32m   1310\u001b[0m     ensure_2d\u001b[39m=\u001b[39;49mensure_2d,\n\u001b[1;32m   1311\u001b[0m     allow_nd\u001b[39m=\u001b[39;49mallow_nd,\n\u001b[1;32m   1312\u001b[0m     ensure_min_samples\u001b[39m=\u001b[39;49mensure_min_samples,\n\u001b[1;32m   1313\u001b[0m     ensure_min_features\u001b[39m=\u001b[39;49mensure_min_features,\n\u001b[1;32m   1314\u001b[0m     estimator\u001b[39m=\u001b[39;49mestimator,\n\u001b[1;32m   1315\u001b[0m     input_name\u001b[39m=\u001b[39;49m\u001b[39m\"\u001b[39;49m\u001b[39mX\u001b[39;49m\u001b[39m\"\u001b[39;49m,\n\u001b[1;32m   1316\u001b[0m )\n\u001b[1;32m   1318\u001b[0m y \u001b[39m=\u001b[39m _check_y(y, multi_output\u001b[39m=\u001b[39mmulti_output, y_numeric\u001b[39m=\u001b[39my_numeric, estimator\u001b[39m=\u001b[39mestimator)\n\u001b[1;32m   1320\u001b[0m check_consistent_length(X, y)\n",
      "File \u001b[0;32m~/Desktop/Python platzy/Machinlearning/myenv/lib/python3.11/site-packages/sklearn/utils/validation.py:1064\u001b[0m, in \u001b[0;36mcheck_array\u001b[0;34m(array, accept_sparse, accept_large_sparse, dtype, order, copy, force_writeable, force_all_finite, ensure_2d, allow_nd, ensure_min_samples, ensure_min_features, estimator, input_name)\u001b[0m\n\u001b[1;32m   1058\u001b[0m     \u001b[39mraise\u001b[39;00m \u001b[39mValueError\u001b[39;00m(\n\u001b[1;32m   1059\u001b[0m         \u001b[39m\"\u001b[39m\u001b[39mFound array with dim \u001b[39m\u001b[39m%d\u001b[39;00m\u001b[39m. \u001b[39m\u001b[39m%s\u001b[39;00m\u001b[39m expected <= 2.\u001b[39m\u001b[39m\"\u001b[39m\n\u001b[1;32m   1060\u001b[0m         \u001b[39m%\u001b[39m (array\u001b[39m.\u001b[39mndim, estimator_name)\n\u001b[1;32m   1061\u001b[0m     )\n\u001b[1;32m   1063\u001b[0m \u001b[39mif\u001b[39;00m force_all_finite:\n\u001b[0;32m-> 1064\u001b[0m     _assert_all_finite(\n\u001b[1;32m   1065\u001b[0m         array,\n\u001b[1;32m   1066\u001b[0m         input_name\u001b[39m=\u001b[39;49minput_name,\n\u001b[1;32m   1067\u001b[0m         estimator_name\u001b[39m=\u001b[39;49mestimator_name,\n\u001b[1;32m   1068\u001b[0m         allow_nan\u001b[39m=\u001b[39;49mforce_all_finite \u001b[39m==\u001b[39;49m \u001b[39m\"\u001b[39;49m\u001b[39mallow-nan\u001b[39;49m\u001b[39m\"\u001b[39;49m,\n\u001b[1;32m   1069\u001b[0m     )\n\u001b[1;32m   1071\u001b[0m \u001b[39mif\u001b[39;00m copy:\n\u001b[1;32m   1072\u001b[0m     \u001b[39mif\u001b[39;00m _is_numpy_namespace(xp):\n\u001b[1;32m   1073\u001b[0m         \u001b[39m# only make a copy if `array` and `array_orig` may share memory`\u001b[39;00m\n",
      "File \u001b[0;32m~/Desktop/Python platzy/Machinlearning/myenv/lib/python3.11/site-packages/sklearn/utils/validation.py:123\u001b[0m, in \u001b[0;36m_assert_all_finite\u001b[0;34m(X, allow_nan, msg_dtype, estimator_name, input_name)\u001b[0m\n\u001b[1;32m    120\u001b[0m \u001b[39mif\u001b[39;00m first_pass_isfinite:\n\u001b[1;32m    121\u001b[0m     \u001b[39mreturn\u001b[39;00m\n\u001b[0;32m--> 123\u001b[0m _assert_all_finite_element_wise(\n\u001b[1;32m    124\u001b[0m     X,\n\u001b[1;32m    125\u001b[0m     xp\u001b[39m=\u001b[39;49mxp,\n\u001b[1;32m    126\u001b[0m     allow_nan\u001b[39m=\u001b[39;49mallow_nan,\n\u001b[1;32m    127\u001b[0m     msg_dtype\u001b[39m=\u001b[39;49mmsg_dtype,\n\u001b[1;32m    128\u001b[0m     estimator_name\u001b[39m=\u001b[39;49mestimator_name,\n\u001b[1;32m    129\u001b[0m     input_name\u001b[39m=\u001b[39;49minput_name,\n\u001b[1;32m    130\u001b[0m )\n",
      "File \u001b[0;32m~/Desktop/Python platzy/Machinlearning/myenv/lib/python3.11/site-packages/sklearn/utils/validation.py:172\u001b[0m, in \u001b[0;36m_assert_all_finite_element_wise\u001b[0;34m(X, xp, allow_nan, msg_dtype, estimator_name, input_name)\u001b[0m\n\u001b[1;32m    155\u001b[0m \u001b[39mif\u001b[39;00m estimator_name \u001b[39mand\u001b[39;00m input_name \u001b[39m==\u001b[39m \u001b[39m\"\u001b[39m\u001b[39mX\u001b[39m\u001b[39m\"\u001b[39m \u001b[39mand\u001b[39;00m has_nan_error:\n\u001b[1;32m    156\u001b[0m     \u001b[39m# Improve the error message on how to handle missing values in\u001b[39;00m\n\u001b[1;32m    157\u001b[0m     \u001b[39m# scikit-learn.\u001b[39;00m\n\u001b[1;32m    158\u001b[0m     msg_err \u001b[39m+\u001b[39m\u001b[39m=\u001b[39m (\n\u001b[1;32m    159\u001b[0m         \u001b[39mf\u001b[39m\u001b[39m\"\u001b[39m\u001b[39m\\n\u001b[39;00m\u001b[39m{\u001b[39;00mestimator_name\u001b[39m}\u001b[39;00m\u001b[39m does not accept missing values\u001b[39m\u001b[39m\"\u001b[39m\n\u001b[1;32m    160\u001b[0m         \u001b[39m\"\u001b[39m\u001b[39m encoded as NaN natively. For supervised learning, you might want\u001b[39m\u001b[39m\"\u001b[39m\n\u001b[0;32m   (...)\u001b[0m\n\u001b[1;32m    170\u001b[0m         \u001b[39m\"\u001b[39m\u001b[39m#estimators-that-handle-nan-values\u001b[39m\u001b[39m\"\u001b[39m\n\u001b[1;32m    171\u001b[0m     )\n\u001b[0;32m--> 172\u001b[0m \u001b[39mraise\u001b[39;00m \u001b[39mValueError\u001b[39;00m(msg_err)\n",
      "\u001b[0;31mValueError\u001b[0m: Input X contains NaN.\nLogisticRegression does not accept missing values encoded as NaN natively. For supervised learning, you might want to consider sklearn.ensemble.HistGradientBoostingClassifier and Regressor which accept missing values encoded as NaNs natively. Alternatively, it is possible to preprocess the data, for instance by using an imputer transformer in a pipeline or drop samples with missing values. See https://scikit-learn.org/stable/modules/impute.html You can find a list of all estimators that handle NaN values at the following page: https://scikit-learn.org/stable/modules/impute.html#estimators-that-handle-nan-values"
     ]
    }
   ],
   "source": [
    "clf.fit(X_train,y_train)"
   ]
  }
 ],
 "metadata": {
  "kernelspec": {
   "display_name": "myenv",
   "language": "python",
   "name": "python3"
  },
  "language_info": {
   "codemirror_mode": {
    "name": "ipython",
    "version": 3
   },
   "file_extension": ".py",
   "mimetype": "text/x-python",
   "name": "python",
   "nbconvert_exporter": "python",
   "pygments_lexer": "ipython3",
   "version": "3.11.5"
  }
 },
 "nbformat": 4,
 "nbformat_minor": 2
}
